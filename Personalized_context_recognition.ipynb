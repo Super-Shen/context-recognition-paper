{
  "nbformat": 4,
  "nbformat_minor": 0,
  "metadata": {
    "colab": {
      "name": "Personalized context recognition.ipynb",
      "provenance": [],
      "collapsed_sections": [],
      "toc_visible": true
    },
    "kernelspec": {
      "name": "python3",
      "display_name": "Python 3"
    },
    "accelerator": "GPU"
  },
  "cells": [
    {
      "cell_type": "markdown",
      "metadata": {
        "id": "hwuYK1d2OrVA",
        "colab_type": "text"
      },
      "source": [
        "### Personalized context recognition"
      ]
    },
    {
      "cell_type": "markdown",
      "metadata": {
        "id": "lbgmCB8IOpAO",
        "colab_type": "text"
      },
      "source": [
        "1. Data  Preparation "
      ]
    },
    {
      "cell_type": "code",
      "metadata": {
        "id": "Ixz1XJzoO_KJ",
        "colab_type": "code",
        "colab": {
          "base_uri": "https://localhost:8080/",
          "height": 269
        },
        "outputId": "318f0e86-d475-4dc9-c76d-603420f0c726"
      },
      "source": [
        "import pandas as pd\n",
        "import json\n",
        "import numpy as np\n",
        "import sklearn\n",
        "import time\n",
        "\n",
        "def getLabel(data):\n",
        "  data.sort_values(\"answertimestamp\",inplace=True)\n",
        "  dataArray = []\n",
        "  for index, row in data.iterrows():\n",
        "    instance = {}\n",
        "    instance['timestamp'] = row['answertimestamp']\n",
        "    instance['wo'] = json.loads(row['answer'])[0][0]['cnt']\n",
        "    instance['wa'] = json.loads(row['answer'])[1][0]['cnt']\n",
        "    instance['we'] = json.loads(row['answer'])[5][0]['cnt']\n",
        "    dataArray.append(instance)\n",
        "    df = pd.DataFrame(dataArray)\n",
        "  df['x'] = np.nan\n",
        "  df['y'] = np.nan\n",
        "  df['z'] = np.nan\n",
        "  df['islabel'] = True\n",
        "  # data.drop(['instanceid','answerduration','answertimestamp','day','delta','instancetimestamp','notificationtimestamp','payload'], axis=1, inplace=True)\n",
        "  return df\n",
        "\n",
        "def getSensorData(data):\n",
        "  data.sort_values(\"timestamp\",inplace=True)\n",
        "  data['wo'] = np.nan\n",
        "  data['wa'] = np.nan\n",
        "  data['we'] = np.nan\n",
        "  data['islabel'] = False\n",
        "  data.drop(['Unnamed: 0', 'day'], axis=1, inplace=True)\n",
        "  return data\n",
        "\n",
        "def concatenateData(sensor, label ,timewindow):\n",
        "  df = pd.concat([sensor, label])\n",
        "  df.sort_values(\"timestamp\",inplace=True)\n",
        "  df.set_index([\"timestamp\"], inplace=True)\n",
        "  print(df)\n",
        "  # df.to_csv(path_or_buf='/content/drive/My Drive/data/sequenceData.csv', sep=',')\n",
        "  # seqArray=df.values\n",
        "  # labeledSeqList = []\n",
        "  # for row in seqArray:\n",
        "  #   if row[7] == True:\n",
        "  #     # labeledSeq = {}\n",
        "  #     start = row[0] - timewindow\n",
        "  #     end = row[0] + timewindow\n",
        "  #     # labeledSeq['timestamp'] = row[0]\n",
        "  #     # labeledSeq['wa'] = row[5]\n",
        "  #     # labeledSeq['seq'] = []\n",
        "  #     print(\"==========\")\n",
        "  #     print(start,'——',end)\n",
        "  #     for seqRow in seqArray:\n",
        "  #       if seqRow[0] <= end & seqRow[0] >= start:\n",
        "  #         seqRow[4] = row[4]\n",
        "  #         seqRow[5] = row[5]\n",
        "  #         seqRow[6] = row[6]\n",
        "  #         print(seqRow)\n",
        "\n",
        "  \n",
        "\n",
        "\n",
        "  \n",
        "\n",
        "path = \"/content/drive/My Drive/data/\"\n",
        "labelData = pd.read_csv(path + \"tasksanswers.csv\")\n",
        "sensorData = pd.read_csv(path + \"accelerometerevent.csv\")\n",
        "\n",
        "sensor = getSensorData(sensorData)\n",
        "label = getLabel(labelData)\n",
        "\n",
        "# print(label)\n",
        "# print(sensor)\n",
        "concatenateData(sensor, label ,1500000)\n",
        "\n",
        "\n"
      ],
      "execution_count": null,
      "outputs": [
        {
          "output_type": "stream",
          "text": [
            "                      x     y     z   wo   wa   we  islabel\n",
            "timestamp                                                  \n",
            "20191124105917150 -1.16 -0.49  9.60  NaN  NaN  NaN    False\n",
            "20191124105917209 -1.16 -0.33  9.59  NaN  NaN  NaN    False\n",
            "20191124105917268 -1.29 -0.16  9.66  NaN  NaN  NaN    False\n",
            "20191124105917346 -1.11 -0.38  9.52  NaN  NaN  NaN    False\n",
            "20191124105917405 -1.11 -0.33  9.47  NaN  NaN  NaN    False\n",
            "...                 ...   ...   ...  ...  ...  ...      ...\n",
            "20191129165809670 -1.43  2.52  9.27  NaN  NaN  NaN    False\n",
            "20191129165809748 -1.33  2.52  9.58  NaN  NaN  NaN    False\n",
            "20191129165815842  0.89  2.26  8.31  NaN  NaN  NaN    False\n",
            "20191129165815865  1.12  2.52  8.13  NaN  NaN  NaN    False\n",
            "20191129165815923  3.12  2.93  7.79  NaN  NaN  NaN    False\n",
            "\n",
            "[998924 rows x 7 columns]\n"
          ],
          "name": "stdout"
        }
      ]
    },
    {
      "cell_type": "markdown",
      "metadata": {
        "id": "FSY2k5p0PH_3",
        "colab_type": "text"
      },
      "source": [
        "# 新段落"
      ]
    }
  ]
}